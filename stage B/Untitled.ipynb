{
 "cells": [
  {
   "cell_type": "code",
   "execution_count": 66,
   "id": "eb9cf507",
   "metadata": {},
   "outputs": [],
   "source": [
    "import pandas as pd\n",
    "import sklearn as sk\n",
    "import numpy as np\n",
    "from sklearn.preprocessing import MinMaxScaler\n",
    "from sklearn.model_selection import train_test_split\n",
    "from sklearn.metrics import mean_absolute_error,mean_squared_error, r2_score"
   ]
  },
  {
   "cell_type": "code",
   "execution_count": 4,
   "id": "2f18b6f9",
   "metadata": {},
   "outputs": [],
   "source": [
    "data = pd.read_csv('energydata_complete.csv')"
   ]
  },
  {
   "cell_type": "code",
   "execution_count": 6,
   "id": "82e2c12e",
   "metadata": {},
   "outputs": [
    {
     "name": "stdout",
     "output_type": "stream",
     "text": [
      "<class 'pandas.core.frame.DataFrame'>\n",
      "RangeIndex: 19735 entries, 0 to 19734\n",
      "Data columns (total 29 columns):\n",
      " #   Column       Non-Null Count  Dtype  \n",
      "---  ------       --------------  -----  \n",
      " 0   date         19735 non-null  object \n",
      " 1   Appliances   19735 non-null  int64  \n",
      " 2   lights       19735 non-null  int64  \n",
      " 3   T1           19735 non-null  float64\n",
      " 4   RH_1         19735 non-null  float64\n",
      " 5   T2           19735 non-null  float64\n",
      " 6   RH_2         19735 non-null  float64\n",
      " 7   T3           19735 non-null  float64\n",
      " 8   RH_3         19735 non-null  float64\n",
      " 9   T4           19735 non-null  float64\n",
      " 10  RH_4         19735 non-null  float64\n",
      " 11  T5           19735 non-null  float64\n",
      " 12  RH_5         19735 non-null  float64\n",
      " 13  T6           19735 non-null  float64\n",
      " 14  RH_6         19735 non-null  float64\n",
      " 15  T7           19735 non-null  float64\n",
      " 16  RH_7         19735 non-null  float64\n",
      " 17  T8           19735 non-null  float64\n",
      " 18  RH_8         19735 non-null  float64\n",
      " 19  T9           19735 non-null  float64\n",
      " 20  RH_9         19735 non-null  float64\n",
      " 21  T_out        19735 non-null  float64\n",
      " 22  Press_mm_hg  19735 non-null  float64\n",
      " 23  RH_out       19735 non-null  float64\n",
      " 24  Windspeed    19735 non-null  float64\n",
      " 25  Visibility   19735 non-null  float64\n",
      " 26  Tdewpoint    19735 non-null  float64\n",
      " 27  rv1          19735 non-null  float64\n",
      " 28  rv2          19735 non-null  float64\n",
      "dtypes: float64(26), int64(2), object(1)\n",
      "memory usage: 4.4+ MB\n"
     ]
    }
   ],
   "source": [
    "data.info()"
   ]
  },
  {
   "cell_type": "code",
   "execution_count": 7,
   "id": "ff13ba15",
   "metadata": {},
   "outputs": [],
   "source": [
    "from sklearn.linear_model import LinearRegression"
   ]
  },
  {
   "cell_type": "code",
   "execution_count": 20,
   "id": "8e41fa09",
   "metadata": {},
   "outputs": [
    {
     "data": {
      "text/html": [
       "<div>\n",
       "<style scoped>\n",
       "    .dataframe tbody tr th:only-of-type {\n",
       "        vertical-align: middle;\n",
       "    }\n",
       "\n",
       "    .dataframe tbody tr th {\n",
       "        vertical-align: top;\n",
       "    }\n",
       "\n",
       "    .dataframe thead th {\n",
       "        text-align: right;\n",
       "    }\n",
       "</style>\n",
       "<table border=\"1\" class=\"dataframe\">\n",
       "  <thead>\n",
       "    <tr style=\"text-align: right;\">\n",
       "      <th></th>\n",
       "      <th>T2</th>\n",
       "    </tr>\n",
       "  </thead>\n",
       "  <tbody>\n",
       "    <tr>\n",
       "      <th>0</th>\n",
       "      <td>19.200000</td>\n",
       "    </tr>\n",
       "    <tr>\n",
       "      <th>1</th>\n",
       "      <td>19.200000</td>\n",
       "    </tr>\n",
       "    <tr>\n",
       "      <th>2</th>\n",
       "      <td>19.200000</td>\n",
       "    </tr>\n",
       "    <tr>\n",
       "      <th>3</th>\n",
       "      <td>19.200000</td>\n",
       "    </tr>\n",
       "    <tr>\n",
       "      <th>4</th>\n",
       "      <td>19.200000</td>\n",
       "    </tr>\n",
       "    <tr>\n",
       "      <th>...</th>\n",
       "      <td>...</td>\n",
       "    </tr>\n",
       "    <tr>\n",
       "      <th>19730</th>\n",
       "      <td>25.890000</td>\n",
       "    </tr>\n",
       "    <tr>\n",
       "      <th>19731</th>\n",
       "      <td>25.754000</td>\n",
       "    </tr>\n",
       "    <tr>\n",
       "      <th>19732</th>\n",
       "      <td>25.628571</td>\n",
       "    </tr>\n",
       "    <tr>\n",
       "      <th>19733</th>\n",
       "      <td>25.414000</td>\n",
       "    </tr>\n",
       "    <tr>\n",
       "      <th>19734</th>\n",
       "      <td>25.264286</td>\n",
       "    </tr>\n",
       "  </tbody>\n",
       "</table>\n",
       "<p>19735 rows × 1 columns</p>\n",
       "</div>"
      ],
      "text/plain": [
       "              T2\n",
       "0      19.200000\n",
       "1      19.200000\n",
       "2      19.200000\n",
       "3      19.200000\n",
       "4      19.200000\n",
       "...          ...\n",
       "19730  25.890000\n",
       "19731  25.754000\n",
       "19732  25.628571\n",
       "19733  25.414000\n",
       "19734  25.264286\n",
       "\n",
       "[19735 rows x 1 columns]"
      ]
     },
     "execution_count": 20,
     "metadata": {},
     "output_type": "execute_result"
    }
   ],
   "source": [
    "pd.DataFrame(data['T2'])"
   ]
  },
  {
   "cell_type": "code",
   "execution_count": 21,
   "id": "d469306d",
   "metadata": {},
   "outputs": [
    {
     "data": {
      "text/plain": [
       "LinearRegression()"
      ]
     },
     "execution_count": 21,
     "metadata": {},
     "output_type": "execute_result"
    }
   ],
   "source": [
    "model = LinearRegression()\n",
    "model.fit(pd.DataFrame(data['T2']),data['T6'])"
   ]
  },
  {
   "cell_type": "code",
   "execution_count": 88,
   "id": "aab1c401",
   "metadata": {},
   "outputs": [
    {
     "data": {
      "text/plain": [
       "array([6.25, 2.25, 0.25, 0.25, 2.25, 6.25])"
      ]
     },
     "execution_count": 88,
     "metadata": {},
     "output_type": "execute_result"
    }
   ],
   "source": [
    "a = np.array([1,2,3,4,5,6])\n",
    "b = np.array([0,1,2,3,4,5])\n",
    "(b - np.mean(b))**2"
   ]
  },
  {
   "cell_type": "code",
   "execution_count": 105,
   "id": "0aba73a1",
   "metadata": {},
   "outputs": [],
   "source": [
    "def get_r_squared(pred,y):\n",
    "    assert len(y) == len(pred)\n",
    "    _pred = np.array(pred)\n",
    "    _y = np.array(y)\n",
    "    res_sum_of_squares = np.sum((_y - _pred)**2)\n",
    "    tot_sum_of_squares = np.sum((_y - np.mean(_y))**2)\n",
    "    r_sqr = 1 - (res_sum_of_squares/tot_sum_of_squares)\n",
    "    return r_sqr\n",
    "\n",
    "def get_MAE(pred, y):\n",
    "    assert len(y) == len(pred)\n",
    "    _pred = np.array(pred)\n",
    "    _y = np.array(y)\n",
    "    mae = np.sum(np.abs(_y - _pred)) / len(y)\n",
    "    return mae\n",
    "\n",
    "def get_res_sum_squares(pred, y):\n",
    "    assert len(y) == len(pred)\n",
    "    _pred = np.array(pred)\n",
    "    _y = np.array(y)\n",
    "    rss = np.sum((_y - _pred)**2)\n",
    "    return rss\n",
    "def get_r2_score(pred, y):   # copied from a stackoverflow solution to confirm mismatch in self implemented r2score and scikitlearns\n",
    "    assert len(y) == len(pred)  # als to confirm if there was an error in my own implemented rsuared function\n",
    "    _pred = np.array(pred)\n",
    "    _y = np.array(y)\n",
    "    res_sum_squares = sum(map(lambda x: (x[0]-x[1]) **2, zip(_y,_pred)))\n",
    "    total_sum_squares = sum([(x - np.mean(_y))**2 for x in _y])\n",
    "    r_sqr = 1 - (res_sum_squares/total_sum_squares)\n",
    "    return r_sqr"
   ]
  },
  {
   "cell_type": "code",
   "execution_count": 104,
   "id": "c28a9dd5",
   "metadata": {},
   "outputs": [
    {
     "name": "stdout",
     "output_type": "stream",
     "text": [
      "0.6418990830855492\n",
      "0.4421227162483323\n"
     ]
    }
   ],
   "source": [
    "preds = model.predict(pd.DataFrame(data['T2']))\n",
    "print(get_r_squared(preds,data['T6']))\n",
    "print(r2_score(preds, data['T6']))\n",
    "\n",
    "#Disparity noticed in self implemented r2 score and scikitlearns; r2 score"
   ]
  },
  {
   "cell_type": "code",
   "execution_count": 35,
   "id": "26ac4d73",
   "metadata": {},
   "outputs": [],
   "source": [
    "df = data.drop(['date', 'lights'], axis = 1)"
   ]
  },
  {
   "cell_type": "code",
   "execution_count": 37,
   "id": "757471a9",
   "metadata": {},
   "outputs": [],
   "source": [
    "scaler = MinMaxScaler()\n",
    "x_train, x_test, y_train, y_test = train_test_split(df.drop(['Appliances'], axis = 1), df['Appliances'], test_size = 0.3, random_state = 42)"
   ]
  },
  {
   "cell_type": "code",
   "execution_count": 38,
   "id": "c2957a42",
   "metadata": {},
   "outputs": [],
   "source": [
    "x_train_scaled = scaler.fit_transform(x_train)\n",
    "x_test_scaled = scaler.transform(x_test)\n",
    "model2 = LinearRegression()\n",
    "model2.fit(x_train_scaled, y_train)\n",
    "preds2 = model2.predict(x_test_scaled)"
   ]
  },
  {
   "cell_type": "code",
   "execution_count": 106,
   "id": "775481d0",
   "metadata": {},
   "outputs": [
    {
     "name": "stdout",
     "output_type": "stream",
     "text": [
      "53.64297765584959\n",
      "53.64297765584959\n",
      "51918501.21223274\n",
      "93.64046093998029\n",
      "0.14890246319303535\n",
      "-4.411893747294911\n"
     ]
    }
   ],
   "source": [
    "# Using bothe my implemented metrics and already implemented metrics in the sklearn library\n",
    "print(get_MAE(preds2,y_test))\n",
    "print(mean_absolute_error(preds2,y_test))\n",
    "\n",
    "print(get_res_sum_squares(preds2, y_test))\n",
    "\n",
    "print(np.sqrt(mean_squared_error(preds2,y_test)))\n",
    "\n",
    "print(get_r_squared(preds2, y_test))\n",
    "print(r2_score(preds2, y_test))"
   ]
  },
  {
   "cell_type": "code",
   "execution_count": 57,
   "id": "c929c517",
   "metadata": {},
   "outputs": [
    {
     "data": {
      "text/plain": [
       "array([  -3.51072478,  495.52601962, -252.710373  , -469.52136238,\n",
       "        310.97103712,  102.77165244,   31.00966845,   27.31182902,\n",
       "        -16.75282177,   17.03563561,  252.71692835,   40.7120577 ,\n",
       "         11.00293428,  -47.56355153,  109.13469841, -168.62716102,\n",
       "       -203.23662712,  -42.58633878, -344.3898449 ,    7.31524276,\n",
       "        -83.1075989 ,   31.22594824,   13.16807161,  125.43063708,\n",
       "          0.82386956,    0.82386956])"
      ]
     },
     "execution_count": 57,
     "metadata": {},
     "output_type": "execute_result"
    }
   ],
   "source": [
    "weights = model2.coef_\n",
    "weights"
   ]
  },
  {
   "cell_type": "code",
   "execution_count": 60,
   "id": "c6fc02a7",
   "metadata": {},
   "outputs": [
    {
     "name": "stdout",
     "output_type": "stream",
     "text": [
      "93.66003653920396\n"
     ]
    }
   ],
   "source": [
    "from sklearn.linear_model import Ridge\n",
    "ridge_model = Ridge(alpha = 0.4)\n",
    "ridge_model.fit(x_train_scaled, y_train)\n",
    "ridge_pred = ridge_model.predict(x_test_scaled)\n",
    "print(np.sqrt(mean_squared_error(ridge_pred, y_test)))"
   ]
  },
  {
   "cell_type": "code",
   "execution_count": 109,
   "id": "79fd37ed",
   "metadata": {},
   "outputs": [
    {
     "name": "stdout",
     "output_type": "stream",
     "text": [
      "93.6406727479042\n"
     ]
    }
   ],
   "source": [
    "from sklearn.linear_model import Lasso\n",
    "lasso_model = Lasso(alpha = 0.001)\n",
    "lasso_model.fit(x_train_scaled, y_train)\n",
    "lasso_pred = lasso_model.predict(x_test_scaled)\n",
    "print(np.sqrt(mean_squared_error(lasso_pred, y_test)))"
   ]
  },
  {
   "cell_type": "code",
   "execution_count": 110,
   "id": "333f6b08",
   "metadata": {},
   "outputs": [
    {
     "data": {
      "text/plain": [
       "array([  -4.05585856,  494.32619407, -249.63865276, -465.82104986,\n",
       "        310.20015553,  102.17247227,   30.34420541,   26.56058062,\n",
       "        -17.1130125 ,   17.01355581,  249.83361984,   40.09096313,\n",
       "         10.30491756,  -47.20961004,  108.879691  , -168.69793662,\n",
       "       -202.48080861,  -42.44605292, -332.57356496,    7.28122335,\n",
       "        -77.98877912,   31.38802504,   13.07813126,  118.06259364,\n",
       "          1.63099462,    0.        ])"
      ]
     },
     "execution_count": 110,
     "metadata": {},
     "output_type": "execute_result"
    }
   ],
   "source": [
    "lasso_w = lasso_model.coef_\n",
    "lasso_w."
   ]
  }
 ],
 "metadata": {
  "kernelspec": {
   "display_name": "Python 3 (ipykernel)",
   "language": "python",
   "name": "python3"
  },
  "language_info": {
   "codemirror_mode": {
    "name": "ipython",
    "version": 3
   },
   "file_extension": ".py",
   "mimetype": "text/x-python",
   "name": "python",
   "nbconvert_exporter": "python",
   "pygments_lexer": "ipython3",
   "version": "3.9.7"
  }
 },
 "nbformat": 4,
 "nbformat_minor": 5
}
